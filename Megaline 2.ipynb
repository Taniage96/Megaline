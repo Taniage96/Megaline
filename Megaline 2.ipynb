{
 "cells": [
  {
   "cell_type": "markdown",
   "metadata": {},
   "source": [
    "# Megaline Project"
   ]
  },
  {
   "cell_type": "markdown",
   "metadata": {},
   "source": [
    "## Introduction\n",
    "\n",
    "Megaline, a leading mobile company, faces the challenge of a high rate of customers remaining on legacy plans, hampering its growth and revenue potential. To address this problem, Megaline seeks to develop a machine learning model that can analyze subscribers' behavior and recommend the ideal plan among their current options: Smart or Ultra.\n",
    "\n",
    "## Objective\n",
    "The main objective of this project is to develop an accurate classification model that can accurately predict the optimal mobile plan (Smart or Ultra) for each customer, based on their historical behavior. The model must reach an accuracy threshold of 75% or higher to be considered successful."
   ]
  },
  {
   "cell_type": "markdown",
   "metadata": {},
   "source": [
    "## Import libraries and data"
   ]
  },
  {
   "cell_type": "code",
   "execution_count": 24,
   "metadata": {},
   "outputs": [],
   "source": [
    "import pandas as pd\n",
    "from sklearn.model_selection import train_test_split\n",
    "from sklearn.metrics import mean_squared_error\n",
    "from sklearn.ensemble import RandomForestRegressor\n",
    "from sklearn.ensemble import RandomForestClassifier\n",
    "from sklearn.tree import DecisionTreeClassifier\n",
    "from sklearn.metrics import accuracy_score\n",
    "from sklearn.dummy import DummyClassifier"
   ]
  },
  {
   "cell_type": "code",
   "execution_count": 25,
   "metadata": {},
   "outputs": [],
   "source": [
    "#Load the data file\n",
    "df = pd.read_csv('users_behavior.csv')"
   ]
  },
  {
   "cell_type": "code",
   "execution_count": 26,
   "metadata": {},
   "outputs": [
    {
     "name": "stdout",
     "output_type": "stream",
     "text": [
      "<class 'pandas.core.frame.DataFrame'>\n",
      "RangeIndex: 3214 entries, 0 to 3213\n",
      "Data columns (total 5 columns):\n",
      " #   Column    Non-Null Count  Dtype  \n",
      "---  ------    --------------  -----  \n",
      " 0   calls     3214 non-null   float64\n",
      " 1   minutes   3214 non-null   float64\n",
      " 2   messages  3214 non-null   float64\n",
      " 3   mb_used   3214 non-null   float64\n",
      " 4   is_ultra  3214 non-null   int64  \n",
      "dtypes: float64(4), int64(1)\n",
      "memory usage: 125.7 KB\n"
     ]
    }
   ],
   "source": [
    "#Print the general/summarized information about the DataFrame\n",
    "df.info()"
   ]
  },
  {
   "cell_type": "code",
   "execution_count": 27,
   "metadata": {},
   "outputs": [
    {
     "data": {
      "text/html": [
       "<div>\n",
       "<style scoped>\n",
       "    .dataframe tbody tr th:only-of-type {\n",
       "        vertical-align: middle;\n",
       "    }\n",
       "\n",
       "    .dataframe tbody tr th {\n",
       "        vertical-align: top;\n",
       "    }\n",
       "\n",
       "    .dataframe thead th {\n",
       "        text-align: right;\n",
       "    }\n",
       "</style>\n",
       "<table border=\"1\" class=\"dataframe\">\n",
       "  <thead>\n",
       "    <tr style=\"text-align: right;\">\n",
       "      <th></th>\n",
       "      <th>calls</th>\n",
       "      <th>minutes</th>\n",
       "      <th>messages</th>\n",
       "      <th>mb_used</th>\n",
       "      <th>is_ultra</th>\n",
       "    </tr>\n",
       "  </thead>\n",
       "  <tbody>\n",
       "    <tr>\n",
       "      <th>count</th>\n",
       "      <td>3214.000000</td>\n",
       "      <td>3214.000000</td>\n",
       "      <td>3214.000000</td>\n",
       "      <td>3214.000000</td>\n",
       "      <td>3214.000000</td>\n",
       "    </tr>\n",
       "    <tr>\n",
       "      <th>mean</th>\n",
       "      <td>63.038892</td>\n",
       "      <td>438.208787</td>\n",
       "      <td>38.281269</td>\n",
       "      <td>17207.673836</td>\n",
       "      <td>0.306472</td>\n",
       "    </tr>\n",
       "    <tr>\n",
       "      <th>std</th>\n",
       "      <td>33.236368</td>\n",
       "      <td>234.569872</td>\n",
       "      <td>36.148326</td>\n",
       "      <td>7570.968246</td>\n",
       "      <td>0.461100</td>\n",
       "    </tr>\n",
       "    <tr>\n",
       "      <th>min</th>\n",
       "      <td>0.000000</td>\n",
       "      <td>0.000000</td>\n",
       "      <td>0.000000</td>\n",
       "      <td>0.000000</td>\n",
       "      <td>0.000000</td>\n",
       "    </tr>\n",
       "    <tr>\n",
       "      <th>25%</th>\n",
       "      <td>40.000000</td>\n",
       "      <td>274.575000</td>\n",
       "      <td>9.000000</td>\n",
       "      <td>12491.902500</td>\n",
       "      <td>0.000000</td>\n",
       "    </tr>\n",
       "    <tr>\n",
       "      <th>50%</th>\n",
       "      <td>62.000000</td>\n",
       "      <td>430.600000</td>\n",
       "      <td>30.000000</td>\n",
       "      <td>16943.235000</td>\n",
       "      <td>0.000000</td>\n",
       "    </tr>\n",
       "    <tr>\n",
       "      <th>75%</th>\n",
       "      <td>82.000000</td>\n",
       "      <td>571.927500</td>\n",
       "      <td>57.000000</td>\n",
       "      <td>21424.700000</td>\n",
       "      <td>1.000000</td>\n",
       "    </tr>\n",
       "    <tr>\n",
       "      <th>max</th>\n",
       "      <td>244.000000</td>\n",
       "      <td>1632.060000</td>\n",
       "      <td>224.000000</td>\n",
       "      <td>49745.730000</td>\n",
       "      <td>1.000000</td>\n",
       "    </tr>\n",
       "  </tbody>\n",
       "</table>\n",
       "</div>"
      ],
      "text/plain": [
       "             calls      minutes     messages       mb_used     is_ultra\n",
       "count  3214.000000  3214.000000  3214.000000   3214.000000  3214.000000\n",
       "mean     63.038892   438.208787    38.281269  17207.673836     0.306472\n",
       "std      33.236368   234.569872    36.148326   7570.968246     0.461100\n",
       "min       0.000000     0.000000     0.000000      0.000000     0.000000\n",
       "25%      40.000000   274.575000     9.000000  12491.902500     0.000000\n",
       "50%      62.000000   430.600000    30.000000  16943.235000     0.000000\n",
       "75%      82.000000   571.927500    57.000000  21424.700000     1.000000\n",
       "max     244.000000  1632.060000   224.000000  49745.730000     1.000000"
      ]
     },
     "execution_count": 27,
     "metadata": {},
     "output_type": "execute_result"
    }
   ],
   "source": [
    "#generate descriptive statistics for the numerical columns in the DataFrame \n",
    "df.describe()\n"
   ]
  },
  {
   "cell_type": "code",
   "execution_count": 28,
   "metadata": {},
   "outputs": [
    {
     "data": {
      "text/html": [
       "<div>\n",
       "<style scoped>\n",
       "    .dataframe tbody tr th:only-of-type {\n",
       "        vertical-align: middle;\n",
       "    }\n",
       "\n",
       "    .dataframe tbody tr th {\n",
       "        vertical-align: top;\n",
       "    }\n",
       "\n",
       "    .dataframe thead th {\n",
       "        text-align: right;\n",
       "    }\n",
       "</style>\n",
       "<table border=\"1\" class=\"dataframe\">\n",
       "  <thead>\n",
       "    <tr style=\"text-align: right;\">\n",
       "      <th></th>\n",
       "      <th>calls</th>\n",
       "      <th>minutes</th>\n",
       "      <th>messages</th>\n",
       "      <th>mb_used</th>\n",
       "      <th>is_ultra</th>\n",
       "    </tr>\n",
       "  </thead>\n",
       "  <tbody>\n",
       "    <tr>\n",
       "      <th>0</th>\n",
       "      <td>40.0</td>\n",
       "      <td>311.90</td>\n",
       "      <td>83.0</td>\n",
       "      <td>19915.42</td>\n",
       "      <td>0</td>\n",
       "    </tr>\n",
       "    <tr>\n",
       "      <th>1</th>\n",
       "      <td>85.0</td>\n",
       "      <td>516.75</td>\n",
       "      <td>56.0</td>\n",
       "      <td>22696.96</td>\n",
       "      <td>0</td>\n",
       "    </tr>\n",
       "    <tr>\n",
       "      <th>2</th>\n",
       "      <td>77.0</td>\n",
       "      <td>467.66</td>\n",
       "      <td>86.0</td>\n",
       "      <td>21060.45</td>\n",
       "      <td>0</td>\n",
       "    </tr>\n",
       "    <tr>\n",
       "      <th>3</th>\n",
       "      <td>106.0</td>\n",
       "      <td>745.53</td>\n",
       "      <td>81.0</td>\n",
       "      <td>8437.39</td>\n",
       "      <td>1</td>\n",
       "    </tr>\n",
       "    <tr>\n",
       "      <th>4</th>\n",
       "      <td>66.0</td>\n",
       "      <td>418.74</td>\n",
       "      <td>1.0</td>\n",
       "      <td>14502.75</td>\n",
       "      <td>0</td>\n",
       "    </tr>\n",
       "  </tbody>\n",
       "</table>\n",
       "</div>"
      ],
      "text/plain": [
       "   calls  minutes  messages   mb_used  is_ultra\n",
       "0   40.0   311.90      83.0  19915.42         0\n",
       "1   85.0   516.75      56.0  22696.96         0\n",
       "2   77.0   467.66      86.0  21060.45         0\n",
       "3  106.0   745.53      81.0   8437.39         1\n",
       "4   66.0   418.74       1.0  14502.75         0"
      ]
     },
     "execution_count": 28,
     "metadata": {},
     "output_type": "execute_result"
    }
   ],
   "source": [
    "#print the first 5 rows of the Dataframe\n",
    "df.head(5)"
   ]
  },
  {
   "cell_type": "markdown",
   "metadata": {},
   "source": [
    "## Data segmentation"
   ]
  },
  {
   "cell_type": "markdown",
   "metadata": {},
   "source": [
    "Segment the source data into a training set, a validation set, and a test set."
   ]
  },
  {
   "cell_type": "code",
   "execution_count": 29,
   "metadata": {},
   "outputs": [],
   "source": [
    "#Define the features and the target\n",
    "features = df.drop(['is_ultra'], axis=1)\n",
    "target = df['is_ultra']"
   ]
  },
  {
   "cell_type": "code",
   "execution_count": 30,
   "metadata": {},
   "outputs": [],
   "source": [
    "# Split the data into training and validation/test sets\n",
    "features_train, features_valid_test, target_train, target_valid_test = train_test_split(\n",
    "    features, \n",
    "    target, \n",
    "    test_size=0.25, \n",
    "    random_state=12345\n",
    ")"
   ]
  },
  {
   "cell_type": "code",
   "execution_count": 31,
   "metadata": {},
   "outputs": [],
   "source": [
    "# Split the data into training and testing sets \n",
    "features_valid, features_test, target_valid, target_test = train_test_split(\n",
    "    features_valid_test,\n",
    "    target_valid_test,\n",
    "    test_size=0.25,\n",
    "    random_state=12345\n",
    "    )"
   ]
  },
  {
   "cell_type": "markdown",
   "metadata": {},
   "source": [
    "## Investigate the quality of different models by changing the hyperparameters"
   ]
  },
  {
   "cell_type": "code",
   "execution_count": 32,
   "metadata": {},
   "outputs": [
    {
     "name": "stdout",
     "output_type": "stream",
     "text": [
      "Best depth: 8\n",
      "Best accuracy on test set: 0.8009950248756219\n",
      "Training set accuracy: 0.8506224066390041\n"
     ]
    }
   ],
   "source": [
    "# Initialize variables to track best model performance\n",
    "best_accuracy = 0\n",
    "best_depth = 0\n",
    "train_acc = 0\n",
    "\n",
    "# Iterate through a range of tree depths (hyperparameter tuning)\n",
    "for depth in range(1, 50):\n",
    "    # Create a decision tree model with current depth\n",
    "    model = DecisionTreeClassifier(random_state=12345, max_depth=depth)\n",
    "\n",
    "    # Train the model on the training data\n",
    "    model.fit(features_train, target_train)\n",
    "\n",
    "    # Make predictions on the training data\n",
    "    train_prediction = model.predict(features_train)\n",
    "\n",
    "    # Make predictions on the testing data\n",
    "    test_prediction = model.predict(features_test)\n",
    "\n",
    "    # Calculate accuracy on the training data\n",
    "    train_accuracy = accuracy_score(target_train, train_prediction)\n",
    "\n",
    "    # Calculate accuracy on the testing data\n",
    "    test_accuracy = accuracy_score(target_test, test_prediction)\n",
    "\n",
    "    # Update best model parameters if current test accuracy is higher\n",
    "    if test_accuracy > best_accuracy:\n",
    "        best_accuracy = test_accuracy\n",
    "        best_depth = depth\n",
    "        train_acc = train_accuracy\n",
    "\n",
    "# Print the results of the hyperparameter tuning\n",
    "print(\"Best depth:\", best_depth)\n",
    "print(\"Best accuracy on test set:\", best_accuracy)\n",
    "print('Training set accuracy:', train_acc)"
   ]
  },
  {
   "cell_type": "markdown",
   "metadata": {},
   "source": [
    "Evaluating the classification decision tree model for a depth range of 1 to 50, it was obtained that for a depth of 8, the model obtains the best accuracy of 0.8009950248756219 for the test set."
   ]
  },
  {
   "cell_type": "code",
   "execution_count": 33,
   "metadata": {},
   "outputs": [
    {
     "name": "stdout",
     "output_type": "stream",
     "text": [
      "The best model's accuracy on the validation set is 0.802653399668325 with 4 estimators.\n"
     ]
    }
   ],
   "source": [
    "# Initialize variables to track best score and best estimator\n",
    "best_score = 0\n",
    "best_est = 0\n",
    "\n",
    "# Loop through a range of estimators (number of trees in Random Forest)\n",
    "for est in range(1, 50):\n",
    "    # Create a Random Forest Classifier model with the current number of estimators\n",
    "    model = RandomForestClassifier(random_state=12345, n_estimators=est)\n",
    "\n",
    "    # Train the model on the training features and target variables\n",
    "    model.fit(features_train, target_train)\n",
    "\n",
    "    # Evaluate the model's accuracy on the validation set\n",
    "    score = model.score(features_valid, target_valid)\n",
    "\n",
    "    # Check if the current score is better than the previous best score\n",
    "    if score > best_score:\n",
    "        # Update best score and best estimator if a better model is found\n",
    "        best_score = score\n",
    "        best_est = est\n",
    "\n",
    "# Print the results of the hyperparameter tuning\n",
    "print('The best model\\'s accuracy on the validation set is', best_score, 'with', best_est, 'estimators.')"
   ]
  },
  {
   "cell_type": "markdown",
   "metadata": {},
   "source": [
    "Evaluating the classification decision forest model for a range of estimators from 1 to 50, it was obtained that for the estimator value of 49, the model obtains the best accuracy of 0.802653399668325 for the validation set."
   ]
  },
  {
   "cell_type": "markdown",
   "metadata": {},
   "source": [
    "Evaluating the two models, DecisionTreeClassifier and RandomForestClassifier, it was determined that the RandomForestClassifier model will predict with 0.0017 more accuracy than the DecisionTreeClassifier model, with an estimator of 49."
   ]
  },
  {
   "cell_type": "code",
   "execution_count": 34,
   "metadata": {},
   "outputs": [
    {
     "name": "stdout",
     "output_type": "stream",
     "text": [
      "'is_ultra' column fashion: 0    0\n",
      "Name: is_ultra, dtype: int64\n"
     ]
    }
   ],
   "source": [
    "# Find the mode (most frequent value) of the 'is_ultra' column in the DataFrame 'df'\n",
    "df_mode = df['is_ultra'].mode() \n",
    "\n",
    "# Print the result, indicating that it represents the most frequent value in the 'is_ultra' column\n",
    "print(\"'is_ultra' column fashion:\", df_mode)"
   ]
  },
  {
   "cell_type": "markdown",
   "metadata": {},
   "source": [
    "## prueba de cordura al modelo"
   ]
  },
  {
   "cell_type": "code",
   "execution_count": 35,
   "metadata": {},
   "outputs": [
    {
     "data": {
      "text/html": [
       "<style>#sk-container-id-2 {color: black;background-color: white;}#sk-container-id-2 pre{padding: 0;}#sk-container-id-2 div.sk-toggleable {background-color: white;}#sk-container-id-2 label.sk-toggleable__label {cursor: pointer;display: block;width: 100%;margin-bottom: 0;padding: 0.3em;box-sizing: border-box;text-align: center;}#sk-container-id-2 label.sk-toggleable__label-arrow:before {content: \"▸\";float: left;margin-right: 0.25em;color: #696969;}#sk-container-id-2 label.sk-toggleable__label-arrow:hover:before {color: black;}#sk-container-id-2 div.sk-estimator:hover label.sk-toggleable__label-arrow:before {color: black;}#sk-container-id-2 div.sk-toggleable__content {max-height: 0;max-width: 0;overflow: hidden;text-align: left;background-color: #f0f8ff;}#sk-container-id-2 div.sk-toggleable__content pre {margin: 0.2em;color: black;border-radius: 0.25em;background-color: #f0f8ff;}#sk-container-id-2 input.sk-toggleable__control:checked~div.sk-toggleable__content {max-height: 200px;max-width: 100%;overflow: auto;}#sk-container-id-2 input.sk-toggleable__control:checked~label.sk-toggleable__label-arrow:before {content: \"▾\";}#sk-container-id-2 div.sk-estimator input.sk-toggleable__control:checked~label.sk-toggleable__label {background-color: #d4ebff;}#sk-container-id-2 div.sk-label input.sk-toggleable__control:checked~label.sk-toggleable__label {background-color: #d4ebff;}#sk-container-id-2 input.sk-hidden--visually {border: 0;clip: rect(1px 1px 1px 1px);clip: rect(1px, 1px, 1px, 1px);height: 1px;margin: -1px;overflow: hidden;padding: 0;position: absolute;width: 1px;}#sk-container-id-2 div.sk-estimator {font-family: monospace;background-color: #f0f8ff;border: 1px dotted black;border-radius: 0.25em;box-sizing: border-box;margin-bottom: 0.5em;}#sk-container-id-2 div.sk-estimator:hover {background-color: #d4ebff;}#sk-container-id-2 div.sk-parallel-item::after {content: \"\";width: 100%;border-bottom: 1px solid gray;flex-grow: 1;}#sk-container-id-2 div.sk-label:hover label.sk-toggleable__label {background-color: #d4ebff;}#sk-container-id-2 div.sk-serial::before {content: \"\";position: absolute;border-left: 1px solid gray;box-sizing: border-box;top: 0;bottom: 0;left: 50%;z-index: 0;}#sk-container-id-2 div.sk-serial {display: flex;flex-direction: column;align-items: center;background-color: white;padding-right: 0.2em;padding-left: 0.2em;position: relative;}#sk-container-id-2 div.sk-item {position: relative;z-index: 1;}#sk-container-id-2 div.sk-parallel {display: flex;align-items: stretch;justify-content: center;background-color: white;position: relative;}#sk-container-id-2 div.sk-item::before, #sk-container-id-2 div.sk-parallel-item::before {content: \"\";position: absolute;border-left: 1px solid gray;box-sizing: border-box;top: 0;bottom: 0;left: 50%;z-index: -1;}#sk-container-id-2 div.sk-parallel-item {display: flex;flex-direction: column;z-index: 1;position: relative;background-color: white;}#sk-container-id-2 div.sk-parallel-item:first-child::after {align-self: flex-end;width: 50%;}#sk-container-id-2 div.sk-parallel-item:last-child::after {align-self: flex-start;width: 50%;}#sk-container-id-2 div.sk-parallel-item:only-child::after {width: 0;}#sk-container-id-2 div.sk-dashed-wrapped {border: 1px dashed gray;margin: 0 0.4em 0.5em 0.4em;box-sizing: border-box;padding-bottom: 0.4em;background-color: white;}#sk-container-id-2 div.sk-label label {font-family: monospace;font-weight: bold;display: inline-block;line-height: 1.2em;}#sk-container-id-2 div.sk-label-container {text-align: center;}#sk-container-id-2 div.sk-container {/* jupyter's `normalize.less` sets `[hidden] { display: none; }` but bootstrap.min.css set `[hidden] { display: none !important; }` so we also need the `!important` here to be able to override the default hidden behavior on the sphinx rendered scikit-learn.org. See: https://github.com/scikit-learn/scikit-learn/issues/21755 */display: inline-block !important;position: relative;}#sk-container-id-2 div.sk-text-repr-fallback {display: none;}</style><div id=\"sk-container-id-2\" class=\"sk-top-container\"><div class=\"sk-text-repr-fallback\"><pre>DummyClassifier(strategy=&#x27;most_frequent&#x27;)</pre><b>In a Jupyter environment, please rerun this cell to show the HTML representation or trust the notebook. <br />On GitHub, the HTML representation is unable to render, please try loading this page with nbviewer.org.</b></div><div class=\"sk-container\" hidden><div class=\"sk-item\"><div class=\"sk-estimator sk-toggleable\"><input class=\"sk-toggleable__control sk-hidden--visually\" id=\"sk-estimator-id-2\" type=\"checkbox\" checked><label for=\"sk-estimator-id-2\" class=\"sk-toggleable__label sk-toggleable__label-arrow\">DummyClassifier</label><div class=\"sk-toggleable__content\"><pre>DummyClassifier(strategy=&#x27;most_frequent&#x27;)</pre></div></div></div></div></div>"
      ],
      "text/plain": [
       "DummyClassifier(strategy='most_frequent')"
      ]
     },
     "execution_count": 35,
     "metadata": {},
     "output_type": "execute_result"
    }
   ],
   "source": [
    "#crear una instancia de DummyClassifier\n",
    "dummy_clf = DummyClassifier(strategy='most_frequent')\n",
    "#ajustar el DummyClassifier en mis datos\n",
    "dummy_clf.fit(features_train, target_train)"
   ]
  },
  {
   "cell_type": "code",
   "execution_count": 36,
   "metadata": {},
   "outputs": [
    {
     "name": "stdout",
     "output_type": "stream",
     "text": [
      "Exactitud del DummyClassifier: 0.7014925373134329\n"
     ]
    }
   ],
   "source": [
    "#evaluate the DummyClassifier performance on test data\n",
    "dummy_accuracy = dummy_clf.score(features_test, target_test)\n",
    "print(\"Exactitud del DummyClassifier:\", dummy_accuracy)"
   ]
  },
  {
   "cell_type": "code",
   "execution_count": 37,
   "metadata": {},
   "outputs": [
    {
     "name": "stdout",
     "output_type": "stream",
     "text": [
      "Accuracy of my model: 0.7761194029850746\n"
     ]
    }
   ],
   "source": [
    "#compare the accuracy of DummyClassifier in my model\n",
    "model_accuracy = model.score(features_test, target_test)\n",
    "print(\"Accuracy of my model:\", model_accuracy)"
   ]
  },
  {
   "cell_type": "markdown",
   "metadata": {},
   "source": [
    "The accuracy of my model is slightly lower than the accuracy of the DummyClassifier. This means that my model's predictions are reliable."
   ]
  },
  {
   "cell_type": "markdown",
   "metadata": {},
   "source": [
    "# Conclusion\n",
    "\n",
    "An accurate and robust machine learning model was developed to recommend mobile plans to subscribers.\n",
    "Two models were evaluated: Random Forest Classifier and Decision Tree Classifier because the objective to predict is classification type, with only two options. The Random Forest Classifier model with optimized hyperparameters achieved an accuracy of 80.26% on the final test set.\n",
    "The model is a valuable tool for the mobile company to improve customer satisfaction and increase profits."
   ]
  },
  {
   "cell_type": "code",
   "execution_count": null,
   "metadata": {},
   "outputs": [],
   "source": []
  }
 ],
 "metadata": {
  "ExecuteTimeLog": [
   {
    "duration": 1189,
    "start_time": "2024-07-17T15:41:50.829Z"
   },
   {
    "duration": 429,
    "start_time": "2024-07-17T15:46:22.425Z"
   },
   {
    "duration": 4,
    "start_time": "2024-07-17T15:46:23.926Z"
   },
   {
    "duration": 31,
    "start_time": "2024-07-17T15:46:24.614Z"
   },
   {
    "duration": 811,
    "start_time": "2024-07-17T15:46:36.844Z"
   },
   {
    "duration": 4,
    "start_time": "2024-07-17T15:46:40.158Z"
   },
   {
    "duration": 123,
    "start_time": "2024-07-17T15:46:42.610Z"
   },
   {
    "duration": 17,
    "start_time": "2024-07-17T15:46:56.594Z"
   },
   {
    "duration": 17,
    "start_time": "2024-07-17T15:55:47.395Z"
   },
   {
    "duration": 35,
    "start_time": "2024-07-17T15:56:00.375Z"
   },
   {
    "duration": 13,
    "start_time": "2024-07-17T15:56:23.748Z"
   },
   {
    "duration": 5,
    "start_time": "2024-07-17T16:06:20.208Z"
   },
   {
    "duration": 7,
    "start_time": "2024-07-17T16:10:10.878Z"
   },
   {
    "duration": 1248,
    "start_time": "2024-07-18T21:27:04.143Z"
   },
   {
    "duration": 23,
    "start_time": "2024-07-18T21:27:05.395Z"
   },
   {
    "duration": 17,
    "start_time": "2024-07-18T21:27:05.421Z"
   },
   {
    "duration": 35,
    "start_time": "2024-07-18T21:27:05.441Z"
   },
   {
    "duration": 42,
    "start_time": "2024-07-18T21:27:05.480Z"
   },
   {
    "duration": 6,
    "start_time": "2024-07-18T21:27:05.525Z"
   },
   {
    "duration": 7,
    "start_time": "2024-07-18T21:27:05.534Z"
   },
   {
    "duration": 7,
    "start_time": "2024-07-18T21:28:38.144Z"
   },
   {
    "duration": 4,
    "start_time": "2024-07-18T21:34:37.552Z"
   },
   {
    "duration": 4,
    "start_time": "2024-07-18T21:46:53.971Z"
   },
   {
    "duration": 10,
    "start_time": "2024-07-18T21:49:26.221Z"
   },
   {
    "duration": 133,
    "start_time": "2024-07-18T21:49:34.254Z"
   },
   {
    "duration": 197,
    "start_time": "2024-07-18T21:49:56.836Z"
   },
   {
    "duration": 129,
    "start_time": "2024-07-18T22:02:49.796Z"
   },
   {
    "duration": 130,
    "start_time": "2024-07-18T22:03:29.519Z"
   },
   {
    "duration": 126,
    "start_time": "2024-07-18T22:04:31.973Z"
   },
   {
    "duration": 125,
    "start_time": "2024-07-18T22:05:46.336Z"
   },
   {
    "duration": 132,
    "start_time": "2024-07-18T22:06:52.110Z"
   },
   {
    "duration": 972,
    "start_time": "2024-07-18T22:07:15.225Z"
   },
   {
    "duration": 396,
    "start_time": "2024-07-18T22:13:49.014Z"
   },
   {
    "duration": 24,
    "start_time": "2024-07-18T22:14:10.191Z"
   },
   {
    "duration": 37,
    "start_time": "2024-07-18T22:15:14.899Z"
   },
   {
    "duration": 24,
    "start_time": "2024-07-18T22:15:30.806Z"
   },
   {
    "duration": 4,
    "start_time": "2024-07-18T22:16:20.554Z"
   },
   {
    "duration": 8104,
    "start_time": "2024-07-18T22:22:53.309Z"
   },
   {
    "duration": 6,
    "start_time": "2024-07-18T22:57:40.177Z"
   },
   {
    "duration": 5,
    "start_time": "2024-07-18T22:58:37.381Z"
   },
   {
    "duration": 1286,
    "start_time": "2024-07-19T15:38:00.194Z"
   },
   {
    "duration": 5,
    "start_time": "2024-07-19T15:38:07.817Z"
   },
   {
    "duration": 21,
    "start_time": "2024-07-19T15:38:07.826Z"
   },
   {
    "duration": 16,
    "start_time": "2024-07-19T15:38:07.849Z"
   },
   {
    "duration": 51,
    "start_time": "2024-07-19T15:38:07.869Z"
   },
   {
    "duration": 15,
    "start_time": "2024-07-19T15:38:07.924Z"
   },
   {
    "duration": 5,
    "start_time": "2024-07-19T15:38:07.943Z"
   },
   {
    "duration": 8,
    "start_time": "2024-07-19T15:38:07.951Z"
   },
   {
    "duration": 43,
    "start_time": "2024-07-19T15:38:07.962Z"
   },
   {
    "duration": 1008,
    "start_time": "2024-07-19T15:38:08.008Z"
   },
   {
    "duration": 8459,
    "start_time": "2024-07-19T15:38:09.021Z"
   },
   {
    "duration": 6,
    "start_time": "2024-07-19T15:38:17.482Z"
   },
   {
    "duration": 8,
    "start_time": "2024-07-19T15:42:45.100Z"
   },
   {
    "duration": 5,
    "start_time": "2024-07-19T15:43:17.247Z"
   },
   {
    "duration": 454,
    "start_time": "2024-07-19T15:43:50.678Z"
   },
   {
    "duration": 31,
    "start_time": "2024-07-19T15:44:25.485Z"
   },
   {
    "duration": 25,
    "start_time": "2024-07-19T15:44:34.510Z"
   },
   {
    "duration": 24,
    "start_time": "2024-07-19T15:45:02.229Z"
   },
   {
    "duration": 18,
    "start_time": "2024-07-19T15:48:28.694Z"
   },
   {
    "duration": 6,
    "start_time": "2024-07-19T15:54:48.525Z"
   },
   {
    "duration": 15,
    "start_time": "2024-07-19T15:54:51.549Z"
   },
   {
    "duration": 8,
    "start_time": "2024-07-19T16:01:21.019Z"
   },
   {
    "duration": 6,
    "start_time": "2024-07-19T16:01:21.782Z"
   },
   {
    "duration": 14,
    "start_time": "2024-07-19T16:01:22.170Z"
   }
  ],
  "kernelspec": {
   "display_name": "Python 3 (ipykernel)",
   "language": "python",
   "name": "python3"
  },
  "language_info": {
   "codemirror_mode": {
    "name": "ipython",
    "version": 3
   },
   "file_extension": ".py",
   "mimetype": "text/x-python",
   "name": "python",
   "nbconvert_exporter": "python",
   "pygments_lexer": "ipython3",
   "version": "3.11.7"
  },
  "toc": {
   "base_numbering": 1,
   "nav_menu": {},
   "number_sections": true,
   "sideBar": true,
   "skip_h1_title": true,
   "title_cell": "Table of Contents",
   "title_sidebar": "Contents",
   "toc_cell": false,
   "toc_position": {},
   "toc_section_display": true,
   "toc_window_display": false
  }
 },
 "nbformat": 4,
 "nbformat_minor": 2
}
